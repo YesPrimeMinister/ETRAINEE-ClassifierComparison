{
 "cells": [
  {
   "cell_type": "markdown",
   "id": "830d7f4c",
   "metadata": {},
   "source": [
    "# Training a 1D Convolutional Neural Network for hyperspectral data classification\n",
    "\n",
    "In this notebook, you will be able to train and apply a one-dimensional convolutional neural network for classification of hyperspectral data from Luční Hora, Krkonoše moutains, Czechia.\n",
    "\n",
    "Lorem ipsum dolor sit amet, consectetur adipiscing elit, sed do eiusmod tempor incididunt ut labore et dolore magna aliqua. Ut enim ad minim veniam, quis nostrud exercitation ullamco laboris nisi ut aliquip ex ea commodo consequat. Duis aute irure dolor in reprehenderit in voluptate velit esse cillum dolore eu fugiat nulla pariatur. Excepteur sint occaecat cupidatat non proident, sunt in culpa qui officia deserunt mollit anim id est laborum."
   ]
  },
  {
   "cell_type": "markdown",
   "id": "fd3ad522",
   "metadata": {},
   "source": [
    "first, we need to import extrernal libraries:\n",
    "\n",
    "- __os__ - Correct path manipulation\n",
    "- __torch, torch.nn, torch.optim, torchnet__ - Pytorch related libraries for the deep learning itself\n",
    "- __numpy__ - Arrays to hold our data\n",
    "- __matplotlib.pyplot__ - Draw images\n",
    "- __time.perf_counter__ - \n",
    "- __sklearn.model_selection__ - Cross-validation implemented in scikit-learn\n",
    "- __image_preprocessing__ - Our library holding functions for image tiling, preprocessing, etc. (uses gdal)\n",
    "- __inference_utils__ - Our library for correctly exporting classifed images"
   ]
  },
  {
   "cell_type": "code",
   "execution_count": null,
   "id": "blond-celebration",
   "metadata": {},
   "outputs": [],
   "source": [
    "import os\n",
    "\n",
    "import torch\n",
    "import torch.nn as nn\n",
    "import torch.optim as optim\n",
    "import torchnet as tnt\n",
    "\n",
    "import numpy as np\n",
    "import matplotlib\n",
    "import matplotlib.pyplot as plt\n",
    "\n",
    "from time import perf_counter\n",
    "\n",
    "from sklearn.metrics import precision_recall_fscore_support, accuracy_score, jaccard_score\n",
    "from sklearn.model_selection import KFold, StratifiedKFold\n",
    "from tqdm import notebook as tqdm\n",
    "\n",
    "import image_preprocessing\n",
    "import inference_utils\n",
    "\n",
    "# GLOBAL SETTINGS\n",
    "plt.rcParams['figure.figsize'] = [4, 4]\n",
    "np.set_printoptions(precision=2, suppress=True)  # Array print precision"
   ]
  },
  {
   "cell_type": "markdown",
   "id": "21dc4ba3",
   "metadata": {},
   "source": [
    "Please fill correct paths to your training and reference rasters:"
   ]
  },
  {
   "cell_type": "code",
   "execution_count": null,
   "id": "a53c85ff",
   "metadata": {},
   "outputs": [],
   "source": [
    "# PATHS TO TRAINING DATA\n",
    "trainingdata_path = r'C:\\Users\\dd\\Documents\\NATUR_CUNI\\additional_projects\\prace\\ETRAINEE\\data\\LH_202008_54bands_9cm.tif'\n",
    "referencedata_path = r'C:\\Users\\dd\\Documents\\NATUR_CUNI\\additional_projects\\prace\\ETRAINEE\\data\\LH_202008_reference.tif'"
   ]
  },
  {
   "cell_type": "markdown",
   "id": "f78d0067",
   "metadata": {},
   "source": [
    "## 1. Loading and preprocessing the training data"
   ]
  },
  {
   "cell_type": "markdown",
   "id": "23788ed7",
   "metadata": {},
   "source": [
    "### 1.1. Data loading into NumPy\n",
    "Let's start by reading an image into a numpy array, we do this in the background using GDAL.\n",
    "\n",
    "The result of our function is a dictionary named _loaded_raster_, which contains two numpy arrays under keys _imagery_ and _reference_. As we can see, the loaded hyperspectral dataset has 1847 by 1563 pixels with 54 spectral bands. The raster containing our reference data has the same dimensions in height and width."
   ]
  },
  {
   "cell_type": "code",
   "execution_count": null,
   "id": "funky-scratch",
   "metadata": {},
   "outputs": [],
   "source": [
    "loaded_raster = image_preprocessing.read_gdal(trainingdata_path, referencedata_path)\n",
    "\n",
    "print(f'Tiled imagery shape {loaded_raster[\"imagery\"].shape}')\n",
    "print(f'Tiled reference shape {loaded_raster[\"reference\"].shape}')"
   ]
  },
  {
   "cell_type": "code",
   "execution_count": null,
   "id": "considered-commercial",
   "metadata": {},
   "outputs": [],
   "source": [
    "def image_show(raster):\n",
    "    plt.figure(facecolor='white', figsize=[8, 8])\n",
    "    plt.imshow(raster/3000)\n",
    "    plt.title('Natural color composite')\n",
    "    plt.axis('off')\n",
    "\n",
    "image_show(loaded_raster[\"imagery\"][:, :, [25, 15, 5]])"
   ]
  },
  {
   "cell_type": "markdown",
   "id": "6bcfaef6",
   "metadata": {},
   "source": [
    "### 1.2. Image tiling\n",
    "We have our data loaded into a numpy array, the next step is to divide the image into individual tiles, which will be the input for our neural network.\n",
    "\n",
    "As we want to perform convolution only in the spectral dimension, we need to divide the hyperspectral image into tiles of individual pixels, this is ensured by setting the variable _tile_shape_ as (1, 1).\n",
    "_Overlap_ and _offset_ are not needed for one-dimensional processing.\n",
    "\n",
    "this process creates 2886861 \"tiles\" of 1 by 1 pixels, with the same amount of spectral bands as earlier."
   ]
  },
  {
   "cell_type": "code",
   "execution_count": null,
   "id": "veterinary-feeling",
   "metadata": {},
   "outputs": [],
   "source": [
    "tile_shape = (1, 1)\n",
    "overlap = 0\n",
    "offset = (0, 0)\n",
    "\n",
    "dataset_tiles = image_preprocessing.tile_training(loaded_raster, tile_shape, overlap, offset)\n",
    "\n",
    "print(f'Tiled imagery shape {dataset_tiles[\"imagery\"].shape}')\n",
    "print(f'Tiled reference shape {dataset_tiles[\"reference\"].shape}')"
   ]
  },
  {
   "cell_type": "markdown",
   "id": "a3b33f51",
   "metadata": {},
   "source": [
    "### 1.3. Tile filtration\n",
    "However, most of the created tiles do not contain training data, we therefore need to filter them and only keep the tiles with a field-collected reference.\n",
    "\n",
    "This process significantly reduces the size of our dataset from 2 886 861 to 49 842 - training data is available on less than 2 percent of the dataset."
   ]
  },
  {
   "cell_type": "code",
   "execution_count": null,
   "id": "second-karaoke",
   "metadata": {},
   "outputs": [],
   "source": [
    "filtered_tiles = image_preprocessing.filter_useful_tiles(dataset_tiles, nodata_vals=[65535], is_training=True)\n",
    "\n",
    "print(f'Filtered imagery shape {filtered_tiles[\"imagery\"].shape}')\n",
    "print(f'Filtered reference shape {filtered_tiles[\"reference\"].shape}')"
   ]
  },
  {
   "cell_type": "code",
   "execution_count": null,
   "id": "fbd4c0ec",
   "metadata": {
    "scrolled": true
   },
   "outputs": [],
   "source": [
    "tile_number = 5\n",
    "x = np.linspace(404, 997, num=54)\n",
    "y = filtered_tiles[\"imagery\"][tile_number, 0, 0, :]\n",
    "\n",
    "plt.plot(x, y)\n",
    "plt.title(f'Spectral curve for a pixel # {tile_number}')\n",
    "plt.xlabel('Wavelength [nm]')"
   ]
  },
  {
   "cell_type": "markdown",
   "id": "20aece8e",
   "metadata": {},
   "source": [
    "### 1.4. Data normalization\n",
    "After filtering the tiles to only include training data, we can move onto a final part of the preprocessing - data normalization. In Machine Learning, it is common to normalize all data before classification.\n",
    "\n",
    "The resulting dictionary _preprocessed_tiles_ is lastly transformed from numpy arrays into pytorch tensors for the training."
   ]
  },
  {
   "cell_type": "code",
   "execution_count": null,
   "id": "essential-delicious",
   "metadata": {},
   "outputs": [],
   "source": [
    "preprocessed_tiles, unique, counts = image_preprocessing.normalize_tiles_1d(filtered_tiles, nodata_vals=[65535], is_training=True)\n",
    "print(f'Preprocessed imagery shape {preprocessed_tiles[\"imagery\"].shape}')\n",
    "print(f'Preprocessed reference shape {preprocessed_tiles[\"reference\"].shape}')"
   ]
  },
  {
   "cell_type": "code",
   "execution_count": null,
   "id": "b72398a1",
   "metadata": {
    "scrolled": true
   },
   "outputs": [],
   "source": [
    "tile_number = 5\n",
    "x = np.linspace(404, 997, num=54)\n",
    "y = preprocessed_tiles[\"imagery\"][tile_number, 0, :]\n",
    "\n",
    "plt.plot(x, y)\n",
    "plt.title(f'Spectral curve for a pixel # {tile_number}')\n",
    "plt.xlabel('Wavelength [nm]')"
   ]
  },
  {
   "cell_type": "code",
   "execution_count": null,
   "id": "ff1822f4",
   "metadata": {},
   "outputs": [],
   "source": [
    "dataset = tnt.dataset.TensorDataset([preprocessed_tiles['imagery'], preprocessed_tiles['reference']])\n",
    "print(dataset)\n",
    "\n",
    "print(f'Class labels: \\n{unique}\\n')\n",
    "print(f'Number of pixels in a class: \\n{counts}')"
   ]
  },
  {
   "cell_type": "markdown",
   "id": "bd02968d",
   "metadata": {},
   "source": [
    "## 2. Neural network definition\n",
    "After preprocessing our data, we can move onto defining our neural network and functions for training. You can either train your own neural network or use the one we already trained for you (_SpectralNet_pretrained.pt_). In case you are using the pretrained network, please run only the following code snippet (2.1.) and skip to section 3.\n",
    "\n",
    "Lorem ipsum dolor sit amet, consectetur adipiscing elit, sed do eiusmod tempor incididunt ut labore et dolore magna aliqua. Ut enim ad minim veniam, quis nostrud exercitation ullamco laboris nisi ut aliquip ex ea commodo consequat. Duis aute irure dolor in reprehenderit in voluptate velit esse cillum dolore eu fugiat nulla pariatur. Excepteur sint occaecat cupidatat non proident, sunt in culpa qui officia deserunt mollit anim id est laborum."
   ]
  },
  {
   "cell_type": "markdown",
   "id": "6bbd7b73",
   "metadata": {},
   "source": [
    "### 2.1. Network structure\n",
    "Our network is named SpectralNet, and its structure is defined in the SpectralNet class, which has three methods:\n",
    "- **__init__** - This method runs automatically when defining an instance of the class, it defines indiviudal layers of the networks (1D convolutions, fully connected layers, maxpooling and also a dropout layer).\n",
    "- **init_weights** - Randomly initialising network weights based on a normal distribution.\n",
    "- **forward** - Defining how data should flow through the network during a forward pass (network structure definition). The PyTorch library automatically creates a method for backward passes based on this structure."
   ]
  },
  {
   "cell_type": "code",
   "execution_count": null,
   "id": "1159ae9a",
   "metadata": {},
   "outputs": [],
   "source": [
    "class SpectralNet(nn.Module):\n",
    "    \"\"\"1D CNN for classifying pixels based on the spectral response.\"\"\"\n",
    "\n",
    "    def __init__(self, args):\n",
    "        \"\"\"\n",
    "        Initialize the SpectralNet model.\n",
    "\n",
    "        n_channels, int, number of input channel\n",
    "        size, int list, size of the feature maps of convs for the encoder\n",
    "        n_class = int,  the number of classes\n",
    "        \"\"\"\n",
    "        # necessary for all classes extending the module class\n",
    "        super(SpectralNet, self).__init__()\n",
    "\n",
    "        self.maxpool = nn.MaxPool1d(2, return_indices=False)\n",
    "        self.dropout = nn.Dropout(p=0.5, inplace=False)\n",
    "\n",
    "        self.n_channels = args['n_channel']\n",
    "        self.size = args['layer_width']\n",
    "        self.n_class = args['n_class']\n",
    "        #self.is_cuda = args['cuda']\n",
    "\n",
    "        # Encoder layer definitions\n",
    "        def conv_layer_1d(in_ch, out_ch, k_size=3, conv_bias=False):\n",
    "            \"\"\"Create default conv layer.\"\"\"\n",
    "            return nn.Sequential(nn.Conv1d(in_ch, out_ch, kernel_size=k_size,\n",
    "                                           bias=conv_bias),\n",
    "                                 nn.BatchNorm1d(out_ch), nn.ReLU())\n",
    "\n",
    "        def fconnected_layer(in_ch, out_ch, mlp_bias=False):\n",
    "            \"\"\"Create default linear layer.\"\"\"\n",
    "            return nn.Sequential(nn.Linear(in_ch, out_ch, bias=mlp_bias),\n",
    "                                 nn.BatchNorm1d(out_ch), nn.ReLU())\n",
    "\n",
    "        self.c1 = conv_layer_1d(self.n_channels, self.size[0])\n",
    "        self.c2 = conv_layer_1d(self.size[0], self.size[1])\n",
    "        self.c3 = conv_layer_1d(self.size[1], self.size[2])\n",
    "\n",
    "        self.c4 = conv_layer_1d(self.size[2], self.size[3])\n",
    "        self.c5 = conv_layer_1d(self.size[3], self.size[4])\n",
    "        self.c6 = conv_layer_1d(self.size[4], self.size[5])\n",
    "        \n",
    "        self.c7 = conv_layer_1d(self.size[5], self.size[6])\n",
    "        self.c8 = conv_layer_1d(self.size[6], self.size[7])\n",
    "        self.c9 = conv_layer_1d(self.size[7], self.size[8])\n",
    "\n",
    "        self.flatten = nn.Flatten()\n",
    "\n",
    "        self.l1 = fconnected_layer(self.size[9], self.size[10])\n",
    "        self.l2 = fconnected_layer(self.size[10], self.size[11])\n",
    "        self.l3 = fconnected_layer(self.size[11], self.size[12])\n",
    "        # Final classifying layer\n",
    "        self.classifier = nn.Linear(self.size[12], self.n_class)\n",
    "\n",
    "        # Weight initialization\n",
    "        self.c1[0].apply(self.init_weights)\n",
    "        self.c2[0].apply(self.init_weights)\n",
    "        self.c3[0].apply(self.init_weights)\n",
    "        self.c4[0].apply(self.init_weights)\n",
    "        self.c5[0].apply(self.init_weights)\n",
    "        self.c6[0].apply(self.init_weights)\n",
    "        self.c7[0].apply(self.init_weights)\n",
    "        self.c8[0].apply(self.init_weights)\n",
    "        self.c9[0].apply(self.init_weights)\n",
    "        self.l1[0].apply(self.init_weights)\n",
    "        self.l2[0].apply(self.init_weights)\n",
    "        self.l3[0].apply(self.init_weights)\n",
    "\n",
    "        self.classifier.apply(self.init_weights)\n",
    "\n",
    "        if torch.cuda.is_available():  # Put the model on GPU memory\n",
    "            self.cuda()\n",
    "\n",
    "    def init_weights(self, layer):\n",
    "        \"\"\"Initialise layer weights from a gaussian.\"\"\"\n",
    "        nn.init.kaiming_normal_(\n",
    "            layer.weight, mode='fan_out', nonlinearity='relu')\n",
    "\n",
    "    def forward(self, input_data):\n",
    "        \"\"\"Define model structure for the forward pass.\"\"\"\n",
    "        # Encoder\n",
    "        # Level 1\n",
    "        x1 = self.c1(input_data)\n",
    "        x2 = self.c2(x1)\n",
    "        x3 = self.c3(x2)\n",
    "        x4 = self.maxpool(x3)\n",
    "        # Level 2\n",
    "        x5 = self.c4(x4)\n",
    "        x6 = self.c5(x5)\n",
    "        x7 = self.c6(x6)\n",
    "        x8 = self.maxpool(x7)\n",
    "        # Level 3\n",
    "        x9 = self.c7(x8)\n",
    "        x10 = self.c8(x9)\n",
    "        x11 = self.c9(x10)\n",
    "        # Fully connected portion of the network (MLP)\n",
    "        x12 = self.flatten(x11)\n",
    "        x13 = self.l1(x12)\n",
    "        x14 = self.l2(x13)\n",
    "        x15 = self.l3(x14)\n",
    "        # Output\n",
    "        out = self.classifier(self.dropout(x15))\n",
    "\n",
    "        return out"
   ]
  },
  {
   "cell_type": "markdown",
   "id": "94ef313b",
   "metadata": {},
   "source": [
    "### 2.2. Function for network training\n",
    "Training the network is handled by three functions:\n",
    "- __train__ - Trains the network for one epoch. This function contains a for loop, which loads the training data in individual batches. Each batch of training data goes through the network, after which we compute the loss function (cross-entropy). Last step of training is performing an optimiser step, which changes the networks heights.\n",
    "- __eval__ - Evaluates the results on a validation set, should be done periodically during training to check for overfitting.\n",
    "- __train_full__ - Performs a full training loop."
   ]
  },
  {
   "cell_type": "code",
   "execution_count": null,
   "id": "moving-delta",
   "metadata": {},
   "outputs": [],
   "source": [
    "def augment(obs, g_t):\n",
    "    \"\"\"the data augmentation function, introduces random noise and rotation\"\"\"\n",
    "    sigma, clip= 0.01, 0.03 \n",
    "    \n",
    "    rand = torch.clamp(torch.mul(sigma, torch.randn([1,1,54])), -clip, clip)\n",
    "    obs = torch.add(obs, rand)\n",
    "\n",
    "    return obs, g_t"
   ]
  },
  {
   "cell_type": "code",
   "execution_count": null,
   "id": "amateur-payday",
   "metadata": {},
   "outputs": [],
   "source": [
    "def train(model, optimizer, args):\n",
    "    \"\"\"train for one epoch\"\"\"\n",
    "    model.train() #switch the model in training mode\n",
    "  \n",
    "    #the loader function will take care of the batching\n",
    "    loader = torch.utils.data.DataLoader(dataset, batch_size=args['batch_size'], sampler=args['train_subsampler'])\n",
    "    loader = tqdm.tqdm(loader, ncols=500)\n",
    "  \n",
    "    #will keep track of the loss\n",
    "    loss_meter = tnt.meter.AverageValueMeter()\n",
    "\n",
    "    for index, (tiles, gt) in enumerate(loader):\n",
    "    \n",
    "        optimizer.zero_grad() #put gradient to zero\n",
    "\n",
    "        #tiles, gt = augment(tiles, gt)\n",
    "\n",
    "        if torch.cuda.is_available():\n",
    "            pred = model(tiles.cuda()) #compute the prediction\n",
    "        else:\n",
    "            pred = model(tiles)\n",
    "\n",
    "        loss = nn.functional.cross_entropy(pred.cpu(), gt, weight=args['class_weights'])\n",
    "        loss.backward() #compute gradients\n",
    "\n",
    "        optimizer.step() #one SGD step\n",
    "        loss_meter.add(loss.item())\n",
    "        \n",
    "    return loss_meter.value()[0]\n",
    "\n",
    "def eval(model, sampler):\n",
    "    \"\"\"evaluate results on the validation set\"\"\"\n",
    "  \n",
    "    model.eval() #switch in eval mode\n",
    "  \n",
    "    loader = torch.utils.data.DataLoader(dataset, batch_size=1, sampler=sampler)\n",
    "    loader = tqdm.tqdm(loader, ncols=500)\n",
    "  \n",
    "    loss_meter = tnt.meter.AverageValueMeter()\n",
    "\n",
    "    with torch.no_grad():\n",
    "        for index, (tiles, gt) in enumerate(loader):\n",
    "            if torch.cuda.is_available():\n",
    "                pred = model(tiles.cuda())\n",
    "                loss = nn.functional.cross_entropy(pred.cpu(), gt)\n",
    "            else:\n",
    "                pred = model(tiles)\n",
    "                loss = nn.functional.cross_entropy(pred, gt)\n",
    "            loss_meter.add(loss.item())\n",
    "\n",
    "    return loss_meter.value()[0]\n",
    "\n",
    "\n",
    "def train_full(args):\n",
    "    \"\"\"The full training loop\"\"\"\n",
    "\n",
    "    #initialize the model\n",
    "    model = SpectralNet(args)\n",
    "\n",
    "    print(f'Total number of parameters: {sum([p.numel() for p in model.parameters()])}')\n",
    "  \n",
    "    #define the Adam optimizer\n",
    "    optimizer = optim.Adam(model.parameters(), lr=args['lr'])\n",
    "    scheduler = optim.lr_scheduler.MultiStepLR(optimizer, milestones=args['scheduler_milestones'],\n",
    "                                               gamma=args['scheduler_gamma'])\n",
    "  \n",
    "    train_loss = np.empty(args['n_epoch'])\n",
    "    test_epochs = []\n",
    "    test_loss = []\n",
    "\n",
    "    for i_epoch in range(args['n_epoch']):\n",
    "        #train one epoch\n",
    "        print(f'Epoch #{str(i_epoch+1)}')\n",
    "        train_loss[i_epoch] = train(model, optimizer, args)\n",
    "        scheduler.step()\n",
    "\n",
    "        # Periodic testing on the validation set\n",
    "        if (i_epoch == args['n_epoch'] - 1) or ((i_epoch + 1) % args['n_epoch_test'] == 0):\n",
    "            print('Evaluation')\n",
    "            loss_test = eval(model, args['test_subsampler'])\n",
    "            test_epochs.append(i_epoch + 1)\n",
    "            test_loss.append(loss_test)\n",
    "\n",
    "    plt.figure(figsize=(10, 10))\n",
    "    plt.subplot(1,1,1,ylim=(0,5), xlabel='Epoch #', ylabel='Loss')\n",
    "    plt.plot([i+1 for i in range(args['n_epoch'])], train_loss, label='Training loss')\n",
    "    plt.plot(test_epochs, test_loss, label='Validation loss')\n",
    "    plt.legend()\n",
    "    plt.show()\n",
    "    print(train_loss)\n",
    "    print(test_loss)\n",
    "    args['loss_test'] = test_loss[-1]\n",
    "    \n",
    "    return model"
   ]
  },
  {
   "cell_type": "markdown",
   "id": "1b0b465f",
   "metadata": {},
   "source": [
    "### 2.3. Hyperparameter definition\n",
    "Training networks requires first setting several hyperparameters, please feel free to play around with them and try different values for the number of training epochs, learning rate or batch size.\n",
    "\n",
    "- __n_channel__ - \n",
    "- __cuda__ - Whether you can run the training on a graphics card (GPU). If _False_, performs the training on your processor (CPU)."
   ]
  },
  {
   "cell_type": "code",
   "execution_count": null,
   "id": "sapphire-compact",
   "metadata": {},
   "outputs": [],
   "source": [
    "args = { #Dict to store all model parameters\n",
    "    'n_channel': 1,\n",
    "    'n_class': len(unique),\n",
    "    'layer_width': [32,32,32,64,64,64,128,128,128,384,384,192,96],\n",
    "\n",
    "    'crossval_nfolds': 3,\n",
    "    'n_epoch_test': 2,          #periodicity of evaluation on test set\n",
    "    'scheduler_milestones': [60,80,95],\n",
    "    'scheduler_gamma': 0.3,\n",
    "    'class_weights': torch.tensor([0.1, 0.1, 0.1, 0.1, 0.1, 0.1, 0.1, 0.1, 0.2]),\n",
    "\n",
    "    'n_epoch': 10,\n",
    "    'lr': 1e-4,\n",
    "    'batch_size': 64,\n",
    "}\n",
    "model_save_folder = r'C:\\Users\\dd\\Documents\\NATUR_CUNI\\additional_projects\\prace\\ETRAINEE\\data\\models'\n",
    "\n",
    "print(f'''Number of models to be trained:\n",
    "    {args['crossval_nfolds']}\n",
    "Initial learning rate:\n",
    "    {args['lr']}\n",
    "Batch size:\n",
    "    {args['batch_size']}\n",
    "Number of training epochs:\n",
    "    {args['n_epoch']}''')"
   ]
  },
  {
   "cell_type": "code",
   "execution_count": null,
   "id": "sharing-october",
   "metadata": {
    "scrolled": true
   },
   "outputs": [],
   "source": [
    "kfold = StratifiedKFold(n_splits = args['crossval_nfolds'], shuffle=True)\n",
    "trained_models = []\n",
    "for fold, (train_ids, test_ids) in enumerate(kfold.split(dataset, preprocessed_tiles['reference'])):\n",
    "    print(f'Training starts for model number {str(fold+1)}')\n",
    "    \n",
    "    a = perf_counter()\n",
    "    args['train_subsampler'] = torch.utils.data.SubsetRandomSampler(train_ids)\n",
    "    args['test_subsampler'] = torch.utils.data.SubsetRandomSampler(test_ids)\n",
    "    \n",
    "    trained_models.append((train_full(args), args['loss_test']))\n",
    "    \n",
    "    state_dict_path = os.path.join(model_save_folder, f'fold_{str(fold)}.pt')\n",
    "    torch.save(trained_models[fold][0].state_dict(), state_dict_path)\n",
    "    print(f'Model saved to: {state_dict_path}')\n",
    "    print(f'Training finished in {str(int(perf_counter()-a))}s')\n",
    "    print('\\n\\n')\n",
    "\n",
    "print(f'Resulting loss for individual folds: \\n{[i for _, i in trained_models]}')\n",
    "print(f'Mean loss across all folds: \\n{np.mean([i for _, i in trained_models])}')"
   ]
  },
  {
   "cell_type": "markdown",
   "id": "textile-avenue",
   "metadata": {},
   "source": [
    "## 3. Applying the network"
   ]
  },
  {
   "cell_type": "code",
   "execution_count": null,
   "id": "backed-singing",
   "metadata": {},
   "outputs": [],
   "source": [
    "# Parameters for model definition\n",
    "args = { #Dict to store all model parameters\n",
    "    'n_channel': 1,\n",
    "    'cuda': True,\n",
    "    'n_class': 9,\n",
    "    'layer_width': [32,32,32,64,64,64,128,128,128,384,384,192,96],\n",
    "    'batch_size': 1\n",
    "}\n",
    "\n",
    "state_dict_path = r'C:\\Users\\dd\\Documents\\NATUR_CUNI\\additional_projects\\prace\\ETRAINEE\\data\\models\\fold_1.pt'\n",
    "model = SpectralNet(args)\n",
    "model.load_state_dict(torch.load(state_dict_path))\n",
    "model.eval()"
   ]
  },
  {
   "cell_type": "code",
   "execution_count": null,
   "id": "juvenile-hollywood",
   "metadata": {},
   "outputs": [],
   "source": [
    "source_path = r'C:\\Users\\dd\\Documents\\NATUR_CUNI\\additional_projects\\prace\\ETRAINEE\\data\\LH_202008_54pasem_9cm.tif'\n",
    "tile_shape = (1, 1)\n",
    "overlap = 0\n",
    "offset_topleft = (0, 0)\n",
    "\n",
    "start = perf_counter()\n",
    "raster_orig = image_preprocessing.read_gdal_with_geoinfo(trainingdata_path, offset_topleft)\n",
    "print(raster_orig['geoinfo'])\n",
    "\n",
    "dataset_full_tiles = image_preprocessing.run_tiling_dims(raster_orig['imagery'], out_shape=tile_shape, \n",
    "                                                    out_overlap=overlap, offset=offset_topleft)\n",
    "dataset_full = image_preprocessing.normalize_tiles_1d(dataset_full_tiles, nodata_vals=[0])\n",
    "dataset = tnt.dataset.TensorDataset(dataset_full['imagery'])\n",
    "end = perf_counter()\n",
    "print(f'Loading the imagery took {end - start} seconds.')\n",
    "\n",
    "print(dataset_full_tiles['imagery'].shape)\n",
    "print(dataset_full_tiles['dimensions'])"
   ]
  },
  {
   "cell_type": "code",
   "execution_count": null,
   "id": "neutral-hopkins",
   "metadata": {},
   "outputs": [],
   "source": [
    "output_path = r'C:\\Users\\dd\\Documents\\NATUR_CUNI\\additional_projects\\prace\\ETRAINEE\\data\\test_result.tif'\n",
    "\n",
    "start = perf_counter()\n",
    "arr_class = inference_utils.combine_tiles_1d(model, dataset, tile_shape, overlap, dataset_full_tiles['dimensions'])\n",
    "print(np.unique(arr_class, return_counts=True))\n",
    "arr_class = arr_class + 1\n",
    "print(np.unique(arr_class, return_counts=True))\n",
    "\n",
    "inference_utils.export_result(output_path, arr_class, raster_orig['geoinfo'])\n",
    "end = perf_counter()\n",
    "print(f'The processing took {end - start} seconds.')\n",
    "plt.imshow(arr_class)"
   ]
  },
  {
   "cell_type": "code",
   "execution_count": null,
   "id": "hidden-methodology",
   "metadata": {},
   "outputs": [],
   "source": []
  }
 ],
 "metadata": {
  "kernelspec": {
   "display_name": "Python 3",
   "language": "python",
   "name": "python3"
  },
  "language_info": {
   "codemirror_mode": {
    "name": "ipython",
    "version": 3
   },
   "file_extension": ".py",
   "mimetype": "text/x-python",
   "name": "python",
   "nbconvert_exporter": "python",
   "pygments_lexer": "ipython3",
   "version": "3.9.1"
  }
 },
 "nbformat": 4,
 "nbformat_minor": 5
}
