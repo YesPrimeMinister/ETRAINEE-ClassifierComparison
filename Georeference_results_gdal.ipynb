{
 "cells": [
  {
   "cell_type": "code",
   "execution_count": null,
   "id": "cleared-learning",
   "metadata": {},
   "outputs": [],
   "source": [
    "\"\"\"Conceptual approach\n",
    "\n",
    "iterate over every patch\n",
    "    read georeference information from original patch              retrieve_geoinfo()\n",
    "    write georeference information into classified patch           out_dataset_creation()\n",
    "    only use the middle portion of the raster to stop overlap      out_band_write()\n",
    "\n",
    "merge the patches into one raster                                  merge_rasters()\n",
    "\"\"\""
   ]
  },
  {
   "cell_type": "code",
   "execution_count": null,
   "id": "passive-solomon",
   "metadata": {},
   "outputs": [],
   "source": [
    "# imports\n",
    "from osgeo import gdal\n",
    "import os\n",
    "import shutil\n",
    "\n",
    "# make GDAL throw Python exceptions and get Geotiff driver\n",
    "print(gdal.__version__)\n",
    "gdal.UseExceptions()\n",
    "out_driver = gdal.GetDriverByName('Gtiff')"
   ]
  },
  {
   "cell_type": "code",
   "execution_count": null,
   "id": "creative-score",
   "metadata": {},
   "outputs": [],
   "source": [
    "# Defining paths\n",
    "root_path = 'E:\\\\datasets\\\\test_unet\\\\Krkonose2012\\\\overlap'\n",
    "imagery_path = os.path.join(root_path, 'MHS')\n",
    "results_path = os.path.join(root_path, 'Results')\n",
    "final_filepath = os.path.join(root_path, 'KrakonosNet_Classified.tif')\n",
    "\n",
    "# Creating temporary path\n",
    "temp_path = os.path.join(results_path, 'temp_geocoding')\n",
    "try:\n",
    "    os.mkdir(temp_path)\n",
    "except FileExistsError:\n",
    "    print(f'Path to temporary files already exists, delete the following directory first:\\n{temp_path}')"
   ]
  },
  {
   "cell_type": "code",
   "execution_count": null,
   "id": "champion-speech",
   "metadata": {},
   "outputs": [],
   "source": [
    "def retrieve_geoinfo(img_path):\n",
    "    img = gdal.Open(img_path)\n",
    "    geoinfo = {}\n",
    "    geoinfo['projection'] = img.GetProjection()\n",
    "    geoinfo['YSize'] = int(img.RasterYSize/2)\n",
    "    geoinfo['XSize'] = int(img.RasterXSize/2)\n",
    "    \n",
    "    old_geotransform = img.GetGeoTransform()\n",
    "    new_geotransform = (old_geotransform[0] + old_geotransform[1] * img.RasterXSize/4,\n",
    "                       old_geotransform[1],\n",
    "                       old_geotransform[2],\n",
    "                       old_geotransform[3] + old_geotransform[5] * img.RasterYSize/4,\n",
    "                       old_geotransform[4],\n",
    "                       old_geotransform[5])\n",
    "    geoinfo['geotransform'] = new_geotransform\n",
    "    img = None\n",
    "    \n",
    "    return geoinfo"
   ]
  },
  {
   "cell_type": "code",
   "execution_count": null,
   "id": "broke-fleet",
   "metadata": {},
   "outputs": [],
   "source": [
    "def out_dataset_creation(temp_dir, result_filename, geoinfo, driver):\n",
    "    out_filename = os.path.join(temp_dir, result_filename)\n",
    "    out_raster = driver.Create(out_filename, geoinfo['YSize'], geoinfo['XSize'], 1, gdal.GDT_Byte)\n",
    "    out_raster.SetGeoTransform(geoinfo['geotransform'])\n",
    "    out_raster.SetProjection(geoinfo['projection'])\n",
    "    \n",
    "    return out_raster"
   ]
  },
  {
   "cell_type": "code",
   "execution_count": null,
   "id": "graduate-sending",
   "metadata": {},
   "outputs": [],
   "source": [
    "def out_band_write(out_dataset, classification, geoinfo):\n",
    "    classified = gdal.Open(classification)\n",
    "    classified_arr = classified.GetRasterBand(1).ReadAsArray()\n",
    "    \n",
    "    x_low = int(geoinfo['XSize']/2)\n",
    "    x_high = int(geoinfo['XSize']/2*3)\n",
    "    y_low = int(geoinfo['YSize']/2)\n",
    "    y_high = int(geoinfo['YSize']/2*3)\n",
    "    \n",
    "    out_arr = classified_arr[x_low:x_high, y_low:y_high]\n",
    "    \n",
    "    out_band = out_dataset.GetRasterBand(1)\n",
    "    out_band.WriteArray(out_arr)\n",
    "    out_band.SetNoDataValue(255)"
   ]
  },
  {
   "cell_type": "code",
   "execution_count": null,
   "id": "black-currency",
   "metadata": {},
   "outputs": [],
   "source": [
    "def merge_rasters(rasters_dir, out_filepath, out_src):\n",
    "    rasters_list = os.listdir(rasters_dir)\n",
    "    for i, raster in enumerate(rasters_list):\n",
    "        rasters_list[i] = os.path.join(rasters_dir, raster)\n",
    "    \n",
    "    vrt = gdal.BuildVRT(os.path.join(rasters_dir, 'temp_merged.vrt'), rasters_list)\n",
    "    vrt.SetProjection(out_src)\n",
    "    gdal.Translate(out_filepath, vrt)\n",
    "    vrt = None"
   ]
  },
  {
   "cell_type": "code",
   "execution_count": null,
   "id": "smooth-origin",
   "metadata": {},
   "outputs": [],
   "source": [
    "for image, result in zip(os.listdir(imagery_path),os.listdir(results_path)):\n",
    "    ginfo = retrieve_geoinfo(os.path.join(imagery_path, image))\n",
    "    out_ds = out_dataset_creation(temp_path, result, ginfo, out_driver)\n",
    "    out_band_write(out_ds, os.path.join(results_path,result), ginfo)\n",
    "    out_ds = None\n",
    "\n",
    "merge_rasters(temp_path, final_filepath, ginfo['projection'])\n",
    "shutil.rmtree(temp_path)"
   ]
  },
  {
   "cell_type": "code",
   "execution_count": null,
   "id": "saved-student",
   "metadata": {},
   "outputs": [],
   "source": []
  }
 ],
 "metadata": {
  "kernelspec": {
   "display_name": "Python 3",
   "language": "python",
   "name": "python3"
  },
  "language_info": {
   "codemirror_mode": {
    "name": "ipython",
    "version": 3
   },
   "file_extension": ".py",
   "mimetype": "text/x-python",
   "name": "python",
   "nbconvert_exporter": "python",
   "pygments_lexer": "ipython3",
   "version": "3.9.1"
  }
 },
 "nbformat": 4,
 "nbformat_minor": 5
}
